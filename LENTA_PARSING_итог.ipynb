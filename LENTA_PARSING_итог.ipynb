{
  "cells": [
    {
      "cell_type": "code",
      "execution_count": null,
      "metadata": {
        "id": "a5ApVAiyktf6"
      },
      "outputs": [],
      "source": [
        "from bs4 import BeautifulSoup\n",
        "import requests\n",
        "import urllib.parse\n",
        "import random\n",
        "import pandas as pd\n",
        "from tqdm import tqdm\n",
        "import time"
      ]
    },
    {
      "cell_type": "markdown",
      "source": [
        "## Lenta"
      ],
      "metadata": {
        "id": "2Ve1IiK_jYUg"
      }
    },
    {
      "cell_type": "code",
      "execution_count": null,
      "metadata": {
        "id": "nVJjJ43QkrFH"
      },
      "outputs": [],
      "source": [
        "def get_request_lenta(url, proxy):\n",
        "    headers = {\n",
        "      'Accept': 'text/html,application/xhtml+xml,application/xml;q=0.9,image/avif,image/webp,image/apng,*/*;q=0.8,application/signed-exchange;v=b3;q=0.9',\n",
        "      'Accept-Language': 'ru-RU,ru;q=0.9',\n",
        "      'Connection': 'keep-alive',\n",
        "      'Sec-Fetch-Dest': 'document',\n",
        "      'Sec-Fetch-Mode': 'navigate',\n",
        "      'Sec-Fetch-Site': 'none',\n",
        "      'Sec-Fetch-User': '?1',\n",
        "      'Upgrade-Insecure-Requests': '1',\n",
        "      'User-Agent': 'Mozilla/5.0 (Windows NT 10.0; Win64; x64) AppleWebKit/537.36 (KHTML, like Gecko) Chrome/106.0.0.0 Safari/537.36',\n",
        "      'sec-ch-ua': '\"Chromium\";v=\"106\", \"Google Chrome\";v=\"106\", \"Not;A=Brand\";v=\"99\"',\n",
        "      'sec-ch-ua-mobile': '?0',\n",
        "      'sec-ch-ua-platform': '\"Windows\"',\n",
        "      'Cookie': 'is_mobile=0; lid=vAsAAD9GUGN8CCtiAXoSHQB=; lids=4820359A11087691'\n",
        "    }\n",
        "    \n",
        "    response = requests.request(\"GET\", url, headers=headers, proxies=proxy)\n",
        "    return response\n",
        "\n",
        "def get_nav_data_lenta(year, month, day, proxy):\n",
        "    try:\n",
        "        url = f\"https://lenta.ru/{year}/{month}/{day}/\"\n",
        "\n",
        "        response = get_request_lenta(url, proxy)\n",
        "        soup = BeautifulSoup(response.text, 'lxml')\n",
        "        blocks = soup.find_all('li', {\"class\": \"archive-page__item _news\"})\n",
        "        links = (block.find('a')['href'] for block in blocks)\n",
        "\n",
        "        return links\n",
        "    except:\n",
        "        print(proxy)\n",
        "        return None\n",
        "\n",
        "def get_content_lenta(url, proxy):\n",
        "    try:\n",
        "        response = get_request_lenta(url, proxy)\n",
        "\n",
        "        soup = BeautifulSoup(response.text, 'lxml')\n",
        "        content = soup.find('div', {\"class\": \"topic-body__content\"})\n",
        "        rubric = soup.find('div', {\"class\": \"rubric-header__title\"})\n",
        "    \n",
        "        return {content.get_text(), rubric.get_text()}\n",
        "    except:\n",
        "        #print(proxy)\n",
        "        return None"
      ]
    },
    {
      "cell_type": "code",
      "execution_count": null,
      "metadata": {
        "id": "g-O_NyzZlUlK"
      },
      "outputs": [],
      "source": [
        "tmp = [\"8qjf90:SGBgHV@213.166.75.141:9107\",\n",
        "       \"8qjf90:SGBgHV@213.166.72.212:9988\",\n",
        "       \"8qjf90:SGBgHV@213.166.74.150:9960\",\n",
        "       \"8qjf90:SGBgHV@213.166.75.254:9096\"]\n",
        "pl = [{ \"https\" : f\"https://{p}\"}  for p in tmp]"
      ]
    },
    {
      "cell_type": "code",
      "execution_count": null,
      "metadata": {
        "colab": {
          "base_uri": "https://localhost:8080/"
        },
        "id": "Bz3DUI8tapL8",
        "outputId": "184846d1-5533-49b6-bce5-0ec48e83c7fd"
      },
      "outputs": [
        {
          "output_type": "stream",
          "name": "stdout",
          "text": [
            "6 12 31\n"
          ]
        }
      ],
      "source": [
        "years = ['2012', '2013', '2015', '2016', '2017', '2018']\n",
        "months = ['0'+str(m) for m in range(1,13) if m <10]\n",
        "[months.append(str(m)) for m in range(1,13) if m >=10]\n",
        "days = ['0'+str(d) for d in range(1,32) if d<10]\n",
        "[days.append(str(d)) for d in range(1,32) if d >=10]\n",
        "print(len(years), len(months), len(days))"
      ]
    },
    {
      "cell_type": "code",
      "execution_count": null,
      "metadata": {
        "id": "dS4GUL3SapL9"
      },
      "outputs": [],
      "source": [
        "df_lenta = pd.DataFrame(columns = {'Resource', 'Date','Rubric','Text', 'URL'})"
      ]
    },
    {
      "cell_type": "code",
      "execution_count": null,
      "metadata": {
        "scrolled": true,
        "id": "TfqXtT-EapMB"
      },
      "outputs": [],
      "source": [
        "error = [] #список для ссылок, выдающих ошибку\n",
        "for year in tqdm(years):\n",
        "    for month in tqdm(months):\n",
        "        for day in tqdm(days):\n",
        "            try:\n",
        "                proxy = random.choice(pl)\n",
        "                links = [\"https://lenta.ru\" + x for x in  get_nav_data_lenta(year,month,day,proxy)]\n",
        "                for l in range(len(links)):\n",
        "                    try: \n",
        "                        proxy = random.choice(pl)\n",
        "                        text, rubric = get_content_lenta(links[l], proxy)\n",
        "                        if len(rubric)>50:\n",
        "                            text, rubric = rubric, text #тут чисто костыль потому что с чего-то вдруг для некоторых статей начали меняться местами рубрика и текст\n",
        "                        df_lenta = df_lenta.append({'Resource': 'Lenta',\n",
        "                                           'Date': '/'.join([year, month, day]),\n",
        "                                           'Rubric': rubric,\n",
        "                                           'Text': text,\n",
        "                                           'URL': links[l]}, ignore_index = True)\n",
        "                        if l%10==0:\n",
        "                            time.sleep(1)\n",
        "                    except TypeError:\n",
        "                        error.append(links[l])\n",
        "            except TypeError:\n",
        "                pass\n",
        "        df_lenta.to_parquet('df_lenta_do_{}_{}.parquet'.format(year, month))"
      ]
    },
    {
      "cell_type": "markdown",
      "metadata": {
        "id": "Djo6sJY6DhzD"
      },
      "source": [
        "# RBC"
      ]
    },
    {
      "cell_type": "code",
      "execution_count": null,
      "metadata": {
        "id": "YhjFJy6RvCUk"
      },
      "outputs": [],
      "source": [
        "def get_request_rbc(url, query_enc, proxy):\n",
        "    headers = {\n",
        "    'Host': 'www.rbc.ru',\n",
        "    'Sec-Ch-Ua': '\"-Not.A/Brand\";v=\"8\", \"Chromium\";v=\"102\"',\n",
        "    'Accept': 'application/json, text/javascript, */*; q=0.01',\n",
        "    'X-Requested-With': 'XMLHttpRequest',\n",
        "    'Sec-Ch-Ua-Mobile': '?0',\n",
        "    'User-Agent': 'Mozilla/5.0 (Windows NT 10.0; Win64; x64) AppleWebKit/537.36 (KHTML, like Gecko) Chrome/102.0.5005.63 Safari/537.36',\n",
        "    'Sec-Ch-Ua-Platform': '\"Windows\"',\n",
        "    'Sec-Fetch-Site': 'same-origin',\n",
        "    'Sec-Fetch-Mode': 'cors',\n",
        "    'Sec-Fetch-Dest': 'empty',\n",
        "    'Referer': f'https://www.rbc.ru/search2/?query={query_enc}',\n",
        "    'Accept-Encoding': 'gzip, deflate',\n",
        "    'Accept-Language': 'ru-RU,ru;q=0.9,en-US;q=0.8,en;q=0.7',\n",
        "    'Connection': 'close',\n",
        "    'Cookie': 'qrator_msid=1666207863.677.YEYJytE6RqTAhyw1-vbfsg7re8tvpssm2o8oob1pap82f0a7o; splituid=uUjlVmNQUHcF1TMvAwMjAg==; js_d=false'\n",
        "  }\n",
        "\n",
        "    response = requests.request(\"GET\", url, headers=headers, proxies=proxy)\n",
        "    return response\n",
        "\n",
        "def get_nav_data_rbc(query, page, proxy):\n",
        "    query_enc = urllib.parse.quote(query)\n",
        "    url = f\"https://www.rbc.ru/search2/ajax/?query={query_enc}&page={page}\"\n",
        "    response = get_request_rbc(url, query_enc, proxy)\n",
        "\n",
        "    return [x.get('fronturl','') for x in response.json().get('items',[])]\n",
        "\n",
        "def get_content_rbc(url, query, proxy):\n",
        "    query_enc = urllib.parse.quote(query)\n",
        "\n",
        "    response = get_request_rbc(url, query_enc, proxy)\n",
        "    soup = BeautifulSoup(response.text, 'lxml')\n",
        "    content = soup.find_all('div', {\"class\": \"article__text article__text_free\"})\n",
        "    return content[0].get_text()"
      ]
    },
    {
      "cell_type": "code",
      "source": [
        "queries = ['Россия', \"Абхазия\", \"Белоруссия\", \"Беларусь\", \n",
        "           \"Казахстан\", \"Кыргызстан\", \"Киргизия\", \"Южная Осетия\", \n",
        "           \"Таджикистан\", \"Армения\", \"Азербайджан\", \"Узбекистан\", \"Молдова\", \"Молдавия\"]\n",
        "tmp = [\"8qjf90:SGBgHV@213.166.75.141:9107\",\n",
        "       \"8qjf90:SGBgHV@213.166.75.151:9292\",\n",
        "       \"8qjf90:SGBgHV@213.166.72.212:9988\",\n",
        "       \"8qjf90:SGBgHV@213.166.74.150:9960\",\n",
        "       \"8qjf90:SGBgHV@213.166.75.254:9096\",\n",
        "       \"8qjf90:SGBgHV@213.166.75.189:9188\"]\n",
        "pl = [{ \"https\" : f\"https://{p}\"}  for p in tmp]"
      ],
      "metadata": {
        "id": "b-b3dpenA0GC"
      },
      "execution_count": null,
      "outputs": []
    },
    {
      "cell_type": "code",
      "source": [
        "df_rbc = pd.DataFrame(columns = {'Resource','Query','Page','Rubric','Text', 'URL'})"
      ],
      "metadata": {
        "id": "fySTZvyRA0M8"
      },
      "execution_count": null,
      "outputs": []
    },
    {
      "cell_type": "code",
      "source": [
        "for query in tqdm(queries):\n",
        "    for page in tqdm(range(1,301)): \n",
        "        try:\n",
        "            proxy = random.choice(pl)\n",
        "            \n",
        "            #читаем ссылки\n",
        "            urls_all = get_nav_data_rbc(query, page, proxy)\n",
        "            urls = list(filter(lambda x: (x.startswith('https://www.rbc.ru')), urls_all))\n",
        "            nontyp = list(filter(lambda x: (x not in urls),urls_all)) #забираем в отдельный список нетипичные ссылки\n",
        "\n",
        "            #читаем текст\n",
        "            for i in range(len(urls)):\n",
        "                try:\n",
        "                    text = get_content_rbc(urls[i], query, proxy)\n",
        "                    text = text.replace(\"\\n\", \"\").replace('\\r','')\n",
        "                    #читаем рубрику\n",
        "                    rubric = url.split('https://www.rbc.ru/')[1].split('/')[0]\n",
        "                \n",
        "        \n",
        "                    df_rbc = df_rbc.append({'Query': query,\n",
        "                                        'Page': page,\n",
        "                                        'Rubric': rubric,\n",
        "                                        'Text': text, \n",
        "                                        'URL': urls[i]}, ignore_index = True)\n",
        "                    if i%40==0:\n",
        "                        time.sleep(1)\n",
        "                except: \n",
        "                    error.append(urls[i])\n",
        "                    pass\n",
        "        except requests.exceptions.ProxyError as err:\n",
        "            proxy = random.choice(pl)\n",
        "            continue"
      ],
      "metadata": {
        "id": "HEggsKpRA0Vg"
      },
      "execution_count": null,
      "outputs": []
    },
    {
      "cell_type": "code",
      "source": [
        "df_rbc.to_parquet('df_rbc_colab_2.parquet')"
      ],
      "metadata": {
        "id": "1x0YN8qNBjTq"
      },
      "execution_count": null,
      "outputs": []
    }
  ],
  "metadata": {
    "colab": {
      "provenance": []
    },
    "kernelspec": {
      "display_name": "Python 3",
      "language": "python",
      "name": "python3"
    },
    "language_info": {
      "codemirror_mode": {
        "name": "ipython",
        "version": 3
      },
      "file_extension": ".py",
      "mimetype": "text/x-python",
      "name": "python",
      "nbconvert_exporter": "python",
      "pygments_lexer": "ipython3",
      "version": "3.7.4"
    }
  },
  "nbformat": 4,
  "nbformat_minor": 0
}